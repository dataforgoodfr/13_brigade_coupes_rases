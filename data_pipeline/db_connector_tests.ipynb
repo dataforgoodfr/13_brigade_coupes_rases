{
 "cells": [
  {
   "cell_type": "markdown",
   "metadata": {},
   "source": [
    "# Tests connecteur SQLAlchemy"
   ]
  },
  {
   "cell_type": "markdown",
   "metadata": {},
   "source": [
    "Pour pouvoir se connecter à la base de données, il faut d'abord lancer le conteneur docker correspondant créé par l'équipe backend, en utilisant docker-compose \n",
    "\n",
    "(voir le README: https://github.com/dataforgoodfr/13_brigade_coupes_rases/tree/e81f4c40aa5179878357bfb3809b928b5887b10e/docker)"
   ]
  },
  {
   "cell_type": "code",
   "execution_count": null,
   "metadata": {},
   "outputs": [],
   "source": [
    "# imports\n",
    "import os\n",
    "from dotenv import load_dotenv, find_dotenv\n",
    "from db_connector import engine, get_session\n",
    "from sqlalchemy import Column, Integer, String, DateTime, Float\n",
    "from datetime import datetime\n",
    "from sqlalchemy.orm import declarative_base"
   ]
  },
  {
   "cell_type": "markdown",
   "metadata": {},
   "source": [
    "Si besoin est, voici les variables d'environnement que j'ai utilisé dans mon .env (remplacer par les bonnes valeurs):\n",
    "\n",
    "DB_USER_NAME=abc\n",
    "\n",
    "DB_PSWD=abc\n",
    "\n",
    "DB_HOST=abc\n",
    "\n",
    "DB_NAME=abc\n"
   ]
  },
  {
   "cell_type": "code",
   "execution_count": null,
   "metadata": {},
   "outputs": [],
   "source": [
    "# Pour vérifier que les variables d'environnement se sont bien chargées:\n",
    "env_path = find_dotenv()\n",
    "env_vars = load_dotenv(env_path)\n",
    "\n",
    "db_user_name = os.environ.get('DB_USER_NAME')\n",
    "db_pswd = os.environ.get('DB_PSWD')\n",
    "db_host = os.environ.get('DB_HOST')\n",
    "db_name = os.environ.get('DB_NAME')\n",
    "\n",
    "DATABASE_URL = f\"postgresql+psycopg2://{db_user_name}:{db_pswd}@{db_host}/{db_name}\"\n",
    "print(DATABASE_URL)\n"
   ]
  },
  {
   "cell_type": "markdown",
   "metadata": {},
   "source": [
    "On crée des tables temporaires inspirées des tables de backend.models (simplifiées):"
   ]
  },
  {
   "cell_type": "code",
   "execution_count": 21,
   "metadata": {},
   "outputs": [],
   "source": [
    "\n",
    "Base = declarative_base()\n",
    "\n",
    "class Item(Base):\n",
    "    __tablename__ = \"items\"\n",
    "\n",
    "    id = Column(Integer, primary_key=True, index=True)\n",
    "    name = Column(String, index=True)\n",
    "    description = Column(String, nullable=True)\n",
    "\n",
    "\n",
    "class User(Base):\n",
    "    __tablename__ = \"users\"\n",
    "\n",
    "    ROLES = [\"admin\", \"viewer\", \"volunteer\"]\n",
    "\n",
    "    id = Column(Integer, primary_key=True, index=True)\n",
    "    firstname = Column(String, index=True)\n",
    "    lastname = Column(String, index=True)\n",
    "    role = Column(String, index=True)\n",
    "\n",
    "\n",
    "class Department(Base):\n",
    "    __tablename__ = \"departments\"\n",
    "\n",
    "    id = Column(Integer, primary_key=True, index=True)\n",
    "    code = Column(Integer, index=True)\n",
    "\n",
    "\n",
    "class ClearCut(Base):\n",
    "    __tablename__ = \"clear_cuts\"\n",
    "\n",
    "    STATUSES = [\"pending\", \"validated\"]\n",
    "\n",
    "    id = Column(Integer, primary_key=True, index=True)\n",
    "    cut_date = Column(DateTime, index=True)\n",
    "    slope_percentage = Column(Float, index=True)\n",
    "    lat = Column(Float, index=True)\n",
    "    lon = Column(Float, index=True)\n",
    "    status = Column(String, index=True)\n",
    "    department_id = Column(Integer, index=True)\n",
    "    user_id = Column(Integer, index=True)\n",
    "    created_at = Column(DateTime, default=datetime.now)\n",
    "    updated_at = Column(DateTime, default=datetime.now)\n",
    "\n",
    "\n",
    "# on crée les différentes tables\n",
    "Base.metadata.create_all(engine)\n"
   ]
  },
  {
   "cell_type": "code",
   "execution_count": 22,
   "metadata": {},
   "outputs": [],
   "source": [
    "# on se connecte à la DB pour pouvoir ajouter des données\n",
    "session = get_session()\n",
    "\n",
    "# on crée quelques éléments pour populer les tables\n",
    "item_1 = Item(name='foo', description='abc')\n",
    "item_2 = Item(name='bar', description='def')\n",
    "item_3 = Item(name='baz', description='ghi')\n",
    "items = [item_1, item_2, item_3]\n",
    "\n",
    "user_1 = User(firstname='john', lastname='wick', role='hitman')\n",
    "user_2 = User(firstname='will', lastname='smith', role='actor')\n",
    "users = [user_1, user_2]\n",
    "\n",
    "department_1 = Department(code=75)\n",
    "department_2 = Department(code=93)\n",
    "department_3 = Department(code=13)\n",
    "departments = [department_1, department_2, department_3]\n",
    "\n",
    "session.add_all(items)\n",
    "session.add_all(users)\n",
    "session.add_all(departments)\n",
    "session.commit()"
   ]
  },
  {
   "cell_type": "code",
   "execution_count": 23,
   "metadata": {},
   "outputs": [
    {
     "name": "stdout",
     "output_type": "stream",
     "text": [
      "john wick: hitman\n",
      "will smith: actor\n",
      "department #1: 75\n",
      "department #2: 93\n",
      "department #3: 13\n"
     ]
    }
   ],
   "source": [
    "# Tests de lecture :\n",
    "\n",
    "user_results = session.query(User).all()\n",
    "for user in user_results:\n",
    "    print(f'{user.firstname} {user.lastname}: {user.role}')\n",
    "\n",
    "department_results = session.query(Department).all()\n",
    "for dep in department_results:\n",
    "    print(f'department #{dep.id}: {dep.code}')"
   ]
  },
  {
   "cell_type": "markdown",
   "metadata": {},
   "source": []
  },
  {
   "cell_type": "code",
   "execution_count": null,
   "metadata": {},
   "outputs": [],
   "source": []
  },
  {
   "cell_type": "code",
   "execution_count": null,
   "metadata": {},
   "outputs": [],
   "source": []
  },
  {
   "cell_type": "code",
   "execution_count": null,
   "metadata": {},
   "outputs": [],
   "source": []
  }
 ],
 "metadata": {
  "kernelspec": {
   "display_name": "dfg-brigades-cr",
   "language": "python",
   "name": "python3"
  },
  "language_info": {
   "codemirror_mode": {
    "name": "ipython",
    "version": 3
   },
   "file_extension": ".py",
   "mimetype": "text/x-python",
   "name": "python",
   "nbconvert_exporter": "python",
   "pygments_lexer": "ipython3",
   "version": "3.11.6"
  }
 },
 "nbformat": 4,
 "nbformat_minor": 2
}
