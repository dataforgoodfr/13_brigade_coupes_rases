{
 "cells": [
  {
   "cell_type": "markdown",
   "metadata": {
    "vscode": {
     "languageId": "raw"
    }
   },
   "source": [
    "---\n",
    "title: \"Téléchargement et traitement des données de rivières\"\n",
    "---"
   ]
  },
  {
   "cell_type": "markdown",
   "metadata": {},
   "source": [
    "# Imports"
   ]
  },
  {
   "cell_type": "code",
   "execution_count": null,
   "metadata": {},
   "outputs": [],
   "source": [
    "import requests\n",
    "from zipfile import ZipFile\n",
    "import os\n",
    "from tqdm import tqdm\n",
    "import geopandas as gpd"
   ]
  },
  {
   "cell_type": "markdown",
   "metadata": {},
   "source": [
    "# Téléchargement, dézippage et geoparquet"
   ]
  },
  {
   "cell_type": "code",
   "execution_count": 22,
   "metadata": {},
   "outputs": [],
   "source": [
    "def download_file(url: str, filename: str) -> None:\n",
    "    response = requests.get(url, stream=True)\n",
    "    total_size = int(response.headers.get(\"content-length\", 0))\n",
    "    block_size = 1024\n",
    "    progress_bar = tqdm(total=total_size, unit=\"B\", unit_scale=True)\n",
    "\n",
    "    with open(filename, \"wb\") as f:\n",
    "        for data in response.iter_content(block_size):\n",
    "            progress_bar.update(len(data))\n",
    "            f.write(data)\n",
    "\n",
    "    progress_bar.close()\n",
    "    print(f\"📥 Téléchargement terminé : {filename}\")\n",
    "\n",
    "\n",
    "def decompress_zip(input_file: str, output_file: str) -> None:\n",
    "    with ZipFile(input_file, \"r\") as zip_ref:\n",
    "        zip_ref.extractall(output_file)\n",
    "\n",
    "    os.remove(input_file)\n",
    "    print(f\"📂 Décompression terminée : {output_file}\")"
   ]
  },
  {
   "cell_type": "code",
   "execution_count": 7,
   "metadata": {},
   "outputs": [],
   "source": [
    "url = \"https://services.sandre.eaufrance.fr/telechargement/geo/ETH/BDTopage/2024/CoursEau/CoursEau_FXX-geojson.zip\""
   ]
  },
  {
   "cell_type": "code",
   "execution_count": null,
   "metadata": {},
   "outputs": [
    {
     "name": "stderr",
     "output_type": "stream",
     "text": [
      "100%|██████████| 399M/399M [01:16<00:00, 5.21MB/s] "
     ]
    },
    {
     "name": "stdout",
     "output_type": "stream",
     "text": [
      "📥 Téléchargement terminé : CoursEau_geojson.zip\n"
     ]
    },
    {
     "name": "stderr",
     "output_type": "stream",
     "text": [
      "\n"
     ]
    }
   ],
   "source": [
    "download_file(url, filename=\"CoursEau_geojson.zip\")"
   ]
  },
  {
   "cell_type": "code",
   "execution_count": null,
   "metadata": {},
   "outputs": [
    {
     "name": "stdout",
     "output_type": "stream",
     "text": [
      "📂 Décompression terminée : CoursEau.geojson\n"
     ]
    }
   ],
   "source": [
    "decompress_zip(input_file=\"CoursEau_geojson.zip\", output_file=\"CoursEau\")"
   ]
  },
  {
   "cell_type": "markdown",
   "metadata": {},
   "source": [
    "On lit les données, on s'assure qu'elles ont le bon CRS et on écrit ça en Geoparquet pour optimiser les opérations de lecture et jointure qui vont suivre.\n"
   ]
  },
  {
   "cell_type": "code",
   "execution_count": null,
   "metadata": {},
   "outputs": [],
   "source": [
    "data = gpd.read_file(\"CoursEau/CoursEau_FXX.geojson\")"
   ]
  },
  {
   "cell_type": "code",
   "execution_count": 44,
   "metadata": {},
   "outputs": [
    {
     "data": {
      "text/plain": [
       "<Geographic 2D CRS: EPSG:4326>\n",
       "Name: WGS 84\n",
       "Axis Info [ellipsoidal]:\n",
       "- Lat[north]: Geodetic latitude (degree)\n",
       "- Lon[east]: Geodetic longitude (degree)\n",
       "Area of Use:\n",
       "- name: World.\n",
       "- bounds: (-180.0, -90.0, 180.0, 90.0)\n",
       "Datum: World Geodetic System 1984 ensemble\n",
       "- Ellipsoid: WGS 84\n",
       "- Prime Meridian: Greenwich"
      ]
     },
     "execution_count": 44,
     "metadata": {},
     "output_type": "execute_result"
    }
   ],
   "source": [
    "data.crs"
   ]
  },
  {
   "cell_type": "code",
   "execution_count": null,
   "metadata": {},
   "outputs": [],
   "source": [
    "(\n",
    "    gpd.read_file(\"CoursEau/CoursEau_FXX.geojson\")\n",
    "    .set_geometry(\"geometry\")\n",
    "    .to_crs(\"epsg:4326\")\n",
    "    .to_parquet(\"CoursEau.geoparquet\")\n",
    ")"
   ]
  },
  {
   "cell_type": "markdown",
   "metadata": {},
   "source": [
    "# Lecture du Geoparquet"
   ]
  },
  {
   "cell_type": "code",
   "execution_count": 46,
   "metadata": {},
   "outputs": [],
   "source": [
    "data = gpd.read_parquet(\"CoursEau.geoparquet\")"
   ]
  },
  {
   "cell_type": "markdown",
   "metadata": {},
   "source": [
    "Ici seulement deux variables nous intéressent: le Nom de la rivière (pas mal de données manquantes) et sa géométrie."
   ]
  },
  {
   "cell_type": "code",
   "execution_count": null,
   "metadata": {},
   "outputs": [
    {
     "data": {
      "text/html": [
       "<div>\n",
       "<style scoped>\n",
       "    .dataframe tbody tr th:only-of-type {\n",
       "        vertical-align: middle;\n",
       "    }\n",
       "\n",
       "    .dataframe tbody tr th {\n",
       "        vertical-align: top;\n",
       "    }\n",
       "\n",
       "    .dataframe thead th {\n",
       "        text-align: right;\n",
       "    }\n",
       "</style>\n",
       "<table border=\"1\" class=\"dataframe\">\n",
       "  <thead>\n",
       "    <tr style=\"text-align: right;\">\n",
       "      <th></th>\n",
       "      <th>TopoOH</th>\n",
       "      <th>geometry</th>\n",
       "    </tr>\n",
       "  </thead>\n",
       "  <tbody>\n",
       "    <tr>\n",
       "      <th>0</th>\n",
       "      <td>None</td>\n",
       "      <td>MULTILINESTRING ((2.0475 45.05378, 2.04739 45....</td>\n",
       "    </tr>\n",
       "    <tr>\n",
       "      <th>1</th>\n",
       "      <td>Ruisseau de Saint-Blaise</td>\n",
       "      <td>MULTILINESTRING ((2.18329 43.14797, 2.1832 43....</td>\n",
       "    </tr>\n",
       "    <tr>\n",
       "      <th>2</th>\n",
       "      <td>None</td>\n",
       "      <td>MULTILINESTRING ((2.05402 45.0513, 2.05402 45....</td>\n",
       "    </tr>\n",
       "    <tr>\n",
       "      <th>3</th>\n",
       "      <td>Ruisseau de Chemisard</td>\n",
       "      <td>MULTILINESTRING ((5.65572 44.80644, 5.65577 44...</td>\n",
       "    </tr>\n",
       "    <tr>\n",
       "      <th>4</th>\n",
       "      <td>None</td>\n",
       "      <td>MULTILINESTRING ((2.04054 45.11237, 2.04061 45...</td>\n",
       "    </tr>\n",
       "    <tr>\n",
       "      <th>...</th>\n",
       "      <td>...</td>\n",
       "      <td>...</td>\n",
       "    </tr>\n",
       "    <tr>\n",
       "      <th>142398</th>\n",
       "      <td>None</td>\n",
       "      <td>MULTILINESTRING ((2.03156 45.10487, 2.0314 45....</td>\n",
       "    </tr>\n",
       "    <tr>\n",
       "      <th>142399</th>\n",
       "      <td>None</td>\n",
       "      <td>MULTILINESTRING ((2.05311 45.07831, 2.05316 45...</td>\n",
       "    </tr>\n",
       "    <tr>\n",
       "      <th>142400</th>\n",
       "      <td>None</td>\n",
       "      <td>MULTILINESTRING ((2.04118 45.17135, 2.0408 45....</td>\n",
       "    </tr>\n",
       "    <tr>\n",
       "      <th>142401</th>\n",
       "      <td>Ruisseau des Morts</td>\n",
       "      <td>MULTILINESTRING ((5.70476 44.82948, 5.70484 44...</td>\n",
       "    </tr>\n",
       "    <tr>\n",
       "      <th>142402</th>\n",
       "      <td>None</td>\n",
       "      <td>MULTILINESTRING ((2.02854 45.1528, 2.02842 45....</td>\n",
       "    </tr>\n",
       "  </tbody>\n",
       "</table>\n",
       "<p>142403 rows × 2 columns</p>\n",
       "</div>"
      ],
      "text/plain": [
       "                          TopoOH  \\\n",
       "0                           None   \n",
       "1       Ruisseau de Saint-Blaise   \n",
       "2                           None   \n",
       "3          Ruisseau de Chemisard   \n",
       "4                           None   \n",
       "...                          ...   \n",
       "142398                      None   \n",
       "142399                      None   \n",
       "142400                      None   \n",
       "142401        Ruisseau des Morts   \n",
       "142402                      None   \n",
       "\n",
       "                                                 geometry  \n",
       "0       MULTILINESTRING ((2.0475 45.05378, 2.04739 45....  \n",
       "1       MULTILINESTRING ((2.18329 43.14797, 2.1832 43....  \n",
       "2       MULTILINESTRING ((2.05402 45.0513, 2.05402 45....  \n",
       "3       MULTILINESTRING ((5.65572 44.80644, 5.65577 44...  \n",
       "4       MULTILINESTRING ((2.04054 45.11237, 2.04061 45...  \n",
       "...                                                   ...  \n",
       "142398  MULTILINESTRING ((2.03156 45.10487, 2.0314 45....  \n",
       "142399  MULTILINESTRING ((2.05311 45.07831, 2.05316 45...  \n",
       "142400  MULTILINESTRING ((2.04118 45.17135, 2.0408 45....  \n",
       "142401  MULTILINESTRING ((5.70476 44.82948, 5.70484 44...  \n",
       "142402  MULTILINESTRING ((2.02854 45.1528, 2.02842 45....  \n",
       "\n",
       "[142403 rows x 2 columns]"
      ]
     },
     "execution_count": 49,
     "metadata": {},
     "output_type": "execute_result"
    }
   ],
   "source": [
    "data = data[[\"TopoOH\", \"geometry\"]]"
   ]
  },
  {
   "cell_type": "code",
   "execution_count": null,
   "metadata": {},
   "outputs": [],
   "source": []
  }
 ],
 "metadata": {
  "kernelspec": {
   "display_name": "usr",
   "language": "python",
   "name": "python3"
  },
  "language_info": {
   "codemirror_mode": {
    "name": "ipython",
    "version": 3
   },
   "file_extension": ".py",
   "mimetype": "text/x-python",
   "name": "python",
   "nbconvert_exporter": "python",
   "pygments_lexer": "ipython3",
   "version": "3.12.8"
  }
 },
 "nbformat": 4,
 "nbformat_minor": 2
}
