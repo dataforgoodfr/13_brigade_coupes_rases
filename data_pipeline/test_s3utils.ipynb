{
 "cells": [
  {
   "cell_type": "markdown",
   "metadata": {},
   "source": [
    "# Tutoriel d'explication du fonctionnement des fonctions S3 utils"
   ]
  },
  {
   "cell_type": "code",
   "execution_count": 1,
   "metadata": {},
   "outputs": [],
   "source": [
    "import os\n",
    "if \".env\" not in os.listdir():\n",
    "    os.chdir(\"data4good/13_brigade_coupes_rases/data_pipeline\")"
   ]
  },
  {
   "cell_type": "markdown",
   "metadata": {},
   "source": [
    "## 1 - Importer tous les éléments du module"
   ]
  },
  {
   "cell_type": "code",
   "execution_count": 2,
   "metadata": {},
   "outputs": [],
   "source": [
    "from utils import *"
   ]
  },
  {
   "cell_type": "markdown",
   "metadata": {},
   "source": [
    "## 2 - Instancier la classe S3Manager()"
   ]
  },
  {
   "cell_type": "code",
   "execution_count": 3,
   "metadata": {},
   "outputs": [
    {
     "name": "stdout",
     "output_type": "stream",
     "text": [
      "<utils.S3Manager object at 0xffff384fe710>\n"
     ]
    }
   ],
   "source": [
    "s3_manager = S3Manager()\n",
    "print(s3_manager)"
   ]
  },
  {
   "cell_type": "markdown",
   "metadata": {},
   "source": [
    "## 3 - Utilisation de la methode list_bucket_contents() de la classe s3_manager\n",
    "\n",
    "> Il permet d'afficher tous les éléments présents dans notre bucket S3. \n",
    "\n",
    "\n",
    "**Attention, il faut lui passer le nom du bucket en argument !!!**"
   ]
  },
  {
   "cell_type": "code",
   "execution_count": 4,
   "metadata": {},
   "outputs": [
    {
     "name": "stdout",
     "output_type": "stream",
     "text": [
      "Voici les objets présents dans le bucket :\n",
      "- analytics/data/ign/bdalti25/slope_gte_30.fgb\n",
      "- analytics/data/ign/bdalti25/slope_gte_30.tif\n",
      "- analytics/data/sufosat/sufosat_clear_cuts_2024.fgb\n",
      "- dataeng/sufosat_data/mosaics_tropisco_warnings_france_date_metadata.json\n"
     ]
    }
   ],
   "source": [
    "bucket = \"brigade-coupe-rase-s3\" #NOM DU BUCKET\n",
    "s3_manager.list_bucket_contents(bucket)"
   ]
  },
  {
   "cell_type": "markdown",
   "metadata": {},
   "source": [
    "## BIENTOT DISPO POUR CELUI DE D4G"
   ]
  },
  {
   "cell_type": "markdown",
   "metadata": {},
   "source": [
    "## 4 - Charger les données en geojson sans le télécharger avec la méthode load_geojson_from_s3()\n",
    "\n",
    "Cette fonction permet de charger le geojson au format geopandas facilement. <br/>\n",
    "On récupère les données qu'on a vu précédemment dans la liste en copiant le chemin du fichier et en passant ce dernier comme argument à la méthode.  \n",
    "\n",
    "**attention, il ne prend en charge que des fichier json ou geojson !!!!**<br/>\n",
    "**attention, le nom du bucket est à nouveau un argument de la méthode ici !!**<br/>"
   ]
  },
  {
   "cell_type": "code",
   "execution_count": null,
   "metadata": {},
   "outputs": [],
   "source": [
    "clear_cut = s3_manager.load_geojson_from_s3(bucket, \"to_api/clear_cut_processed_2025-02-19.geojson\")"
   ]
  },
  {
   "cell_type": "code",
   "execution_count": null,
   "metadata": {},
   "outputs": [],
   "source": [
    "clear_cut.head()"
   ]
  }
 ],
 "metadata": {
  "kernelspec": {
   "display_name": "Python 3 (ipykernel)",
   "language": "python",
   "name": "python3"
  },
  "language_info": {
   "codemirror_mode": {
    "name": "ipython",
    "version": 3
   },
   "file_extension": ".py",
   "mimetype": "text/x-python",
   "name": "python",
   "nbconvert_exporter": "python",
   "pygments_lexer": "ipython3",
   "version": "3.10.16"
  }
 },
 "nbformat": 4,
 "nbformat_minor": 2
}
