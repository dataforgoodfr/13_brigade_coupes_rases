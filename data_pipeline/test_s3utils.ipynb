{
 "cells": [
  {
   "cell_type": "markdown",
   "metadata": {},
   "source": [
    "# Tutoriel d'explication du fonctionnement des fonctions S3 utils"
   ]
  },
  {
   "cell_type": "code",
   "execution_count": 1,
   "metadata": {},
   "outputs": [],
   "source": [
    "import os\n",
    "if \".env\" not in os.listdir():\n",
    "    os.chdir(\"data4good/13_brigade_coupes_rases/data_pipeline\")"
   ]
  },
  {
   "cell_type": "markdown",
   "metadata": {},
   "source": [
    "## 1 - Importer tous les éléments du module"
   ]
  },
  {
   "cell_type": "code",
   "execution_count": 2,
   "metadata": {},
   "outputs": [],
   "source": [
    "from utils import *"
   ]
  },
  {
   "cell_type": "markdown",
   "metadata": {},
   "source": [
    "## 2 - Instancier la classe S3Manager()"
   ]
  },
  {
   "cell_type": "code",
   "execution_count": 3,
   "metadata": {},
   "outputs": [
    {
     "name": "stdout",
     "output_type": "stream",
     "text": [
      "<utils.S3Manager object at 0xffff3505e740>\n"
     ]
    }
   ],
   "source": [
    "s3_manager = S3Manager()\n",
    "print(s3_manager)"
   ]
  },
  {
   "cell_type": "markdown",
   "metadata": {},
   "source": [
    "## 3 - Utilisation de la methode list_bucket_contents() de la classe s3_manager\n",
    "\n",
    "> Il permet d'afficher tous les éléments présents dans notre bucket S3. \n",
    "\n",
    "\n",
    "**Attention, il faut lui passer le nom du bucket en argument !!!**"
   ]
  },
  {
   "cell_type": "code",
   "execution_count": 4,
   "metadata": {},
   "outputs": [
    {
     "name": "stdout",
     "output_type": "stream",
     "text": [
      "Voici les objets présents dans le bucket :\n",
      "- raw_data/raster/sufosat_data/mosaics_tropisco_warnings_france_date_metadata.json\n",
      "- to_api/clear_cut_processed_2025-02-19.geojson\n"
     ]
    }
   ],
   "source": [
    "bucket = \"brc-poc-etl\" #NOM DU BUCKET\n",
    "s3_manager.list_bucket_contents(bucket)"
   ]
  },
  {
   "cell_type": "markdown",
   "metadata": {},
   "source": [
    "## 4 - Charger les données en geojson sans le télécharger avec la méthode load_geojson_from_s3()\n",
    "\n",
    "Cette fonction permet de charger le geojson au format geopandas facilement. <br/>\n",
    "On récupère les données qu'on a vu précédemment dans la liste en copiant le chemin du fichier et en passant ce dernier comme argument à la méthode.  \n",
    "\n",
    "**attention, il ne prend en charge que des fichier json ou geojson !!!!**<br/>\n",
    "**attention, le nom du bucket est à nouveau un argument de la méthode ici !!**<br/>"
   ]
  },
  {
   "cell_type": "code",
   "execution_count": 8,
   "metadata": {},
   "outputs": [
    {
     "name": "stdout",
     "output_type": "stream",
     "text": [
      "✅ Fichier chargé et converti en GeoDataFrame avec succès\n"
     ]
    }
   ],
   "source": [
    "clear_cut = s3_manager.load_geojson_from_s3(bucket, \"to_api/clear_cut_processed_2025-02-19.geojson\")"
   ]
  },
  {
   "cell_type": "code",
   "execution_count": 9,
   "metadata": {},
   "outputs": [
    {
     "data": {
      "text/html": [
       "<div>\n",
       "<style scoped>\n",
       "    .dataframe tbody tr th:only-of-type {\n",
       "        vertical-align: middle;\n",
       "    }\n",
       "\n",
       "    .dataframe tbody tr th {\n",
       "        vertical-align: top;\n",
       "    }\n",
       "\n",
       "    .dataframe thead th {\n",
       "        text-align: right;\n",
       "    }\n",
       "</style>\n",
       "<table border=\"1\" class=\"dataframe\">\n",
       "  <thead>\n",
       "    <tr style=\"text-align: right;\">\n",
       "      <th></th>\n",
       "      <th>id</th>\n",
       "      <th>area_ha</th>\n",
       "      <th>coordonnees</th>\n",
       "      <th>geometry</th>\n",
       "    </tr>\n",
       "  </thead>\n",
       "  <tbody>\n",
       "    <tr>\n",
       "      <th>0</th>\n",
       "      <td>0</td>\n",
       "      <td>0.043094</td>\n",
       "      <td>POINT (423978.93459061446 6666497.349988083)</td>\n",
       "      <td>POLYGON ((3.80855 51.44248, 3.80879 51.44248, ...</td>\n",
       "    </tr>\n",
       "    <tr>\n",
       "      <th>1</th>\n",
       "      <td>1</td>\n",
       "      <td>0.043094</td>\n",
       "      <td>POINT (423945.5689080489 6666473.1329213055)</td>\n",
       "      <td>POLYGON ((3.80831 51.44239, 3.80843 51.44239, ...</td>\n",
       "    </tr>\n",
       "    <tr>\n",
       "      <th>2</th>\n",
       "      <td>2</td>\n",
       "      <td>0.021547</td>\n",
       "      <td>POINT (424012.3002731801 6666335.904164524)</td>\n",
       "      <td>POLYGON ((3.80891 51.44157, 3.80903 51.44157, ...</td>\n",
       "    </tr>\n",
       "    <tr>\n",
       "      <th>3</th>\n",
       "      <td>3</td>\n",
       "      <td>0.021537</td>\n",
       "      <td>POINT (427936.1045428978 6662607.401774076)</td>\n",
       "      <td>POLYGON ((3.84416 51.42064, 3.84428 51.42064, ...</td>\n",
       "    </tr>\n",
       "    <tr>\n",
       "      <th>4</th>\n",
       "      <td>4</td>\n",
       "      <td>0.086147</td>\n",
       "      <td>POINT (428343.16587019834 6662567.059421287)</td>\n",
       "      <td>POLYGON ((3.84775 51.42046, 3.84799 51.42046, ...</td>\n",
       "    </tr>\n",
       "  </tbody>\n",
       "</table>\n",
       "</div>"
      ],
      "text/plain": [
       "  id   area_ha                                   coordonnees  \\\n",
       "0  0  0.043094  POINT (423978.93459061446 6666497.349988083)   \n",
       "1  1  0.043094  POINT (423945.5689080489 6666473.1329213055)   \n",
       "2  2  0.021547   POINT (424012.3002731801 6666335.904164524)   \n",
       "3  3  0.021537   POINT (427936.1045428978 6662607.401774076)   \n",
       "4  4  0.086147  POINT (428343.16587019834 6662567.059421287)   \n",
       "\n",
       "                                            geometry  \n",
       "0  POLYGON ((3.80855 51.44248, 3.80879 51.44248, ...  \n",
       "1  POLYGON ((3.80831 51.44239, 3.80843 51.44239, ...  \n",
       "2  POLYGON ((3.80891 51.44157, 3.80903 51.44157, ...  \n",
       "3  POLYGON ((3.84416 51.42064, 3.84428 51.42064, ...  \n",
       "4  POLYGON ((3.84775 51.42046, 3.84799 51.42046, ...  "
      ]
     },
     "execution_count": 9,
     "metadata": {},
     "output_type": "execute_result"
    }
   ],
   "source": [
    "clear_cut.head()"
   ]
  }
 ],
 "metadata": {
  "kernelspec": {
   "display_name": "Python 3",
   "language": "python",
   "name": "python3"
  },
  "language_info": {
   "codemirror_mode": {
    "name": "ipython",
    "version": 3
   },
   "file_extension": ".py",
   "mimetype": "text/x-python",
   "name": "python",
   "nbconvert_exporter": "python",
   "pygments_lexer": "ipython3",
   "version": "3.9.6"
  }
 },
 "nbformat": 4,
 "nbformat_minor": 2
}
